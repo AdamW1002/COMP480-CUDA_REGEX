{
  "nbformat": 4,
  "nbformat_minor": 0,
  "metadata": {
    "colab": {
      "name": "comp480 analysis.ipynb",
      "provenance": [],
      "collapsed_sections": [],
      "authorship_tag": "ABX9TyNtuqhxmFX+zyw0fYQ/VIBO",
      "include_colab_link": true
    },
    "kernelspec": {
      "name": "python3",
      "display_name": "Python 3"
    },
    "language_info": {
      "name": "python"
    }
  },
  "cells": [
    {
      "cell_type": "markdown",
      "metadata": {
        "id": "view-in-github",
        "colab_type": "text"
      },
      "source": [
        "<a href=\"https://colab.research.google.com/github/AdamW1002/COMP480-CUDA_REGEX/blob/master/comp480_analysis.ipynb\" target=\"_parent\"><img src=\"https://colab.research.google.com/assets/colab-badge.svg\" alt=\"Open In Colab\"/></a>"
      ]
    },
    {
      "cell_type": "code",
      "execution_count": 13,
      "metadata": {
        "id": "zJt68lab_S9W"
      },
      "outputs": [],
      "source": [
        "import matplotlib.pyplot as plt \n",
        "from google.colab import files"
      ]
    },
    {
      "cell_type": "code",
      "source": [
        "romeo_and_juliet = {1 : 1372.437256, 2 : 736.546997, 3 : 525.067505, 4 : 419.930847, 5 : 365.885040, 6 : 306.000793, 7 : 314.580597, 8 : 254.459503, 9 : 255.203323, 10 : 255.456863, 11 : 247.728119, 12 : 195.991547, 13 : 195.991806, 14 : 196.458344, 15 : 196.184311, 16 : 196.547348, 17 : 196.567429, 18 : 196.728836, 19 : 196.743423, 20 : 196.822693, 21 : 196.560516, 22 : 188.538879, 23 : 188.109314, 24 : 137.181839, 25 : 137.080124, 26 : 137.152100, 27 : 137.211197, 28 : 137.634613, 29 : 137.041855, 30 : 137.128342, 31 : 137.332809, 32 : 137.182098}\n",
        "kafka = {1 : 1201.768677, 2 : 644.738342, 3 : 459.461823, 4 : 366.065674, 5 : 318.977692, 6 : 267.553589, 7 : 274.765839, 8 : 222.365646, 9 : 222.581573, 10 : 223.465500, 11 : 216.430176, 12 : 170.965515, 13 : 171.021683, 14 : 171.288574, 15 : 171.304550, 16 : 171.787552, 17 : 172.030228, 18 : 185.096603, 19 : 178.049500, 20 : 181.567963, 21 : 187.596375, 22 : 180.435349, 23 : 166.012924, 24 : 128.719345, 25 : 128.985916, 26 : 126.769348, 27 : 119.797218, 28 : 118.843567, 29 : 118.934410, 30 : 118.877525, 31 : 118.965675, 32 : 121.290756}                                                        \n",
        "tale_of_two_cities = {1 : 6900.067383, 2 : 3779.893311, 3 : 2554.142334, 4 : 2037.278564, 5 : 1775.369141, 6 : 1487.623779, 7 : 1528.628052, 8 : 1237.985352, 9 : 1239.399658, 10 : 1241.697998, 11 : 1202.380371, 12 : 951.546875, 13 : 953.150696, 14 : 953.050415, 15 : 954.234985, 16 : 955.527466, 17 : 956.197144, 18 : 955.842468, 19 : 955.928040, 20 : 956.134644, 21 : 955.401367, 22 : 915.732422, 23 : 915.561707, 24 : 665.550659, 25 : 666.439575, 26 : 667.234741, 27 : 666.607666, 28 : 666.916443, 29 : 666.574036, 30 : 669.206543, 31 : 666.914001, 32 : 667.442749}                                 \n",
        "war_and_peace = {1 : 30076.746094, 2 : 14950.664063, 3 : 10650.242188, 4 : 8498.228516, 5 : 7406.415527, 6 : 6499.341309, 7 : 6474.682617, 8 : 5165.428711, 9 : 5169.914063, 10 : 5180.723633, 11 : 5014.901367, 12 : 3941.697754, 13 : 3942.798096, 14 : 3942.618408, 15 : 3941.835449, 16 : 3954.869141, 17 : 3953.875732, 18 : 3953.760986, 19 : 3953.794434, 20 : 3954.015137, 21 : 3953.814941, 22 : 3789.398438, 23 : 3874.501953, 24 : 2849.829590, 25 : 2826.241699, 26 : 2832.402100, 27 : 2829.935547, 28 : 2826.697510, 29 : 2829.997559, 30 : 2830.062012, 31 : 2828.154053, 32 : 2828.204834}       "
      ],
      "metadata": {
        "id": "GNqVI8WT_35v"
      },
      "execution_count": 14,
      "outputs": []
    },
    {
      "cell_type": "code",
      "source": [
        "def plot_book(data : dict , title : str) -> None:\n",
        "  plt.scatter(data.keys(), data.values())\n",
        "  plt.xlabel(\"Thread Count\")\n",
        "  plt.ylabel(\"Time (ms)\")\n",
        "  plt.title(f\"Time (ms) vs Thread Count for {title} \")\n",
        "  plt.savefig(f\"{title}.png\")\n",
        "  files.download(f\"{title}.png\")\n",
        "  plt.show()"
      ],
      "metadata": {
        "id": "NwicWmSCDKcj"
      },
      "execution_count": 15,
      "outputs": []
    },
    {
      "cell_type": "code",
      "source": [
        "plot_book(romeo_and_juliet, \"Romeo and Juliet\")\n",
        "plot_book(kafka, \"Metamorphosis\")\n",
        "plot_book(tale_of_two_cities, \"A tale of two cities\")\n",
        "plot_book(war_and_peace, \"War and Peace\")"
      ],
      "metadata": {
        "colab": {
          "base_uri": "https://localhost:8080/",
          "height": 1000
        },
        "id": "QyFcjB_4_7zK",
        "outputId": "f73a70cf-c723-4629-dd79-aff3b223a0d6"
      },
      "execution_count": 16,
      "outputs": [
        {
          "output_type": "display_data",
          "data": {
            "text/plain": [
              "<IPython.core.display.Javascript object>"
            ],
            "application/javascript": [
              "\n",
              "    async function download(id, filename, size) {\n",
              "      if (!google.colab.kernel.accessAllowed) {\n",
              "        return;\n",
              "      }\n",
              "      const div = document.createElement('div');\n",
              "      const label = document.createElement('label');\n",
              "      label.textContent = `Downloading \"${filename}\": `;\n",
              "      div.appendChild(label);\n",
              "      const progress = document.createElement('progress');\n",
              "      progress.max = size;\n",
              "      div.appendChild(progress);\n",
              "      document.body.appendChild(div);\n",
              "\n",
              "      const buffers = [];\n",
              "      let downloaded = 0;\n",
              "\n",
              "      const channel = await google.colab.kernel.comms.open(id);\n",
              "      // Send a message to notify the kernel that we're ready.\n",
              "      channel.send({})\n",
              "\n",
              "      for await (const message of channel.messages) {\n",
              "        // Send a message to notify the kernel that we're ready.\n",
              "        channel.send({})\n",
              "        if (message.buffers) {\n",
              "          for (const buffer of message.buffers) {\n",
              "            buffers.push(buffer);\n",
              "            downloaded += buffer.byteLength;\n",
              "            progress.value = downloaded;\n",
              "          }\n",
              "        }\n",
              "      }\n",
              "      const blob = new Blob(buffers, {type: 'application/binary'});\n",
              "      const a = document.createElement('a');\n",
              "      a.href = window.URL.createObjectURL(blob);\n",
              "      a.download = filename;\n",
              "      div.appendChild(a);\n",
              "      a.click();\n",
              "      div.remove();\n",
              "    }\n",
              "  "
            ]
          },
          "metadata": {}
        },
        {
          "output_type": "display_data",
          "data": {
            "text/plain": [
              "<IPython.core.display.Javascript object>"
            ],
            "application/javascript": [
              "download(\"download_b5455874-296f-40ff-81f1-3e30afd2be35\", \"Romeo and Juliet.png\", 12605)"
            ]
          },
          "metadata": {}
        },
        {
          "output_type": "display_data",
          "data": {
            "text/plain": [
              "<Figure size 432x288 with 1 Axes>"
            ],
            "image/png": "[encoded data removed]"
          },
          "metadata": {
            "needs_background": "light"
          }
        },
        {
          "output_type": "display_data",
          "data": {
            "text/plain": [
              "<IPython.core.display.Javascript object>"
            ],
            "application/javascript": [
              "\n",
              "    async function download(id, filename, size) {\n",
              "      if (!google.colab.kernel.accessAllowed) {\n",
              "        return;\n",
              "      }\n",
              "      const div = document.createElement('div');\n",
              "      const label = document.createElement('label');\n",
              "      label.textContent = `Downloading \"${filename}\": `;\n",
              "      div.appendChild(label);\n",
              "      const progress = document.createElement('progress');\n",
              "      progress.max = size;\n",
              "      div.appendChild(progress);\n",
              "      document.body.appendChild(div);\n",
              "\n",
              "      const buffers = [];\n",
              "      let downloaded = 0;\n",
              "\n",
              "      const channel = await google.colab.kernel.comms.open(id);\n",
              "      // Send a message to notify the kernel that we're ready.\n",
              "      channel.send({})\n",
              "\n",
              "      for await (const message of channel.messages) {\n",
              "        // Send a message to notify the kernel that we're ready.\n",
              "        channel.send({})\n",
              "        if (message.buffers) {\n",
              "          for (const buffer of message.buffers) {\n",
              "            buffers.push(buffer);\n",
              "            downloaded += buffer.byteLength;\n",
              "            progress.value = downloaded;\n",
              "          }\n",
              "        }\n",
              "      }\n",
              "      const blob = new Blob(buffers, {type: 'application/binary'});\n",
              "      const a = document.createElement('a');\n",
              "      a.href = window.URL.createObjectURL(blob);\n",
              "      a.download = filename;\n",
              "      div.appendChild(a);\n",
              "      a.click();\n",
              "      div.remove();\n",
              "    }\n",
              "  "
            ]
          },
          "metadata": {}
        },
        {
          "output_type": "display_data",
          "data": {
            "text/plain": [
              "<IPython.core.display.Javascript object>"
            ],
            "application/javascript": [
              "download(\"download_ebb40141-caef-4966-87de-9d3914392aac\", \"Metamorphosis.png\", 12485)"
            ]
          },
          "metadata": {}
        },
        {
          "output_type": "display_data",
          "data": {
            "text/plain": [
              "<Figure size 432x288 with 1 Axes>"
            ],
            "image/png": "[encoded data removed]"
          },
          "metadata": {
            "needs_background": "light"
          }
        },
        {
          "output_type": "display_data",
          "data": {
            "text/plain": [
              "<IPython.core.display.Javascript object>"
            ],
            "application/javascript": [
              "\n",
              "    async function download(id, filename, size) {\n",
              "      if (!google.colab.kernel.accessAllowed) {\n",
              "        return;\n",
              "      }\n",
              "      const div = document.createElement('div');\n",
              "      const label = document.createElement('label');\n",
              "      label.textContent = `Downloading \"${filename}\": `;\n",
              "      div.appendChild(label);\n",
              "      const progress = document.createElement('progress');\n",
              "      progress.max = size;\n",
              "      div.appendChild(progress);\n",
              "      document.body.appendChild(div);\n",
              "\n",
              "      const buffers = [];\n",
              "      let downloaded = 0;\n",
              "\n",
              "      const channel = await google.colab.kernel.comms.open(id);\n",
              "      // Send a message to notify the kernel that we're ready.\n",
              "      channel.send({})\n",
              "\n",
              "      for await (const message of channel.messages) {\n",
              "        // Send a message to notify the kernel that we're ready.\n",
              "        channel.send({})\n",
              "        if (message.buffers) {\n",
              "          for (const buffer of message.buffers) {\n",
              "            buffers.push(buffer);\n",
              "            downloaded += buffer.byteLength;\n",
              "            progress.value = downloaded;\n",
              "          }\n",
              "        }\n",
              "      }\n",
              "      const blob = new Blob(buffers, {type: 'application/binary'});\n",
              "      const a = document.createElement('a');\n",
              "      a.href = window.URL.createObjectURL(blob);\n",
              "      a.download = filename;\n",
              "      div.appendChild(a);\n",
              "      a.click();\n",
              "      div.remove();\n",
              "    }\n",
              "  "
            ]
          },
          "metadata": {}
        },
        {
          "output_type": "display_data",
          "data": {
            "text/plain": [
              "<IPython.core.display.Javascript object>"
            ],
            "application/javascript": [
              "download(\"download_65cda99c-5481-446e-8db3-d175a9760ef8\", \"A tale of two cities.png\", 13310)"
            ]
          },
          "metadata": {}
        },
        {
          "output_type": "display_data",
          "data": {
            "text/plain": [
              "<Figure size 432x288 with 1 Axes>"
            ],
            "image/png": "[encoded data removed]"
          },
          "metadata": {
            "needs_background": "light"
          }
        },
        {
          "output_type": "display_data",
          "data": {
            "text/plain": [
              "<IPython.core.display.Javascript object>"
            ],
            "application/javascript": [
              "\n",
              "    async function download(id, filename, size) {\n",
              "      if (!google.colab.kernel.accessAllowed) {\n",
              "        return;\n",
              "      }\n",
              "      const div = document.createElement('div');\n",
              "      const label = document.createElement('label');\n",
              "      label.textContent = `Downloading \"${filename}\": `;\n",
              "      div.appendChild(label);\n",
              "      const progress = document.createElement('progress');\n",
              "      progress.max = size;\n",
              "      div.appendChild(progress);\n",
              "      document.body.appendChild(div);\n",
              "\n",
              "      const buffers = [];\n",
              "      let downloaded = 0;\n",
              "\n",
              "      const channel = await google.colab.kernel.comms.open(id);\n",
              "      // Send a message to notify the kernel that we're ready.\n",
              "      channel.send({})\n",
              "\n",
              "      for await (const message of channel.messages) {\n",
              "        // Send a message to notify the kernel that we're ready.\n",
              "        channel.send({})\n",
              "        if (message.buffers) {\n",
              "          for (const buffer of message.buffers) {\n",
              "            buffers.push(buffer);\n",
              "            downloaded += buffer.byteLength;\n",
              "            progress.value = downloaded;\n",
              "          }\n",
              "        }\n",
              "      }\n",
              "      const blob = new Blob(buffers, {type: 'application/binary'});\n",
              "      const a = document.createElement('a');\n",
              "      a.href = window.URL.createObjectURL(blob);\n",
              "      a.download = filename;\n",
              "      div.appendChild(a);\n",
              "      a.click();\n",
              "      div.remove();\n",
              "    }\n",
              "  "
            ]
          },
          "metadata": {}
        },
        {
          "output_type": "display_data",
          "data": {
            "text/plain": [
              "<IPython.core.display.Javascript object>"
            ],
            "application/javascript": [
              "download(\"download_6ea463de-e27d-48e3-9b7f-460977a1bfc1\", \"War and Peace.png\", 13049)"
            ]
          },
          "metadata": {}
        },
        {
          "output_type": "display_data",
          "data": {
            "text/plain": [
              "<Figure size 432x288 with 1 Axes>"
            ],
            "image/png": "[encoded data removed]"
          },
          "metadata": {
            "needs_background": "light"
          }
        }
      ]
    }
  ]
}